{
 "cells": [
  {
   "cell_type": "code",
   "execution_count": 1,
   "id": "14e93dac",
   "metadata": {},
   "outputs": [],
   "source": [
    "import pandas as pd\n",
    "import glob\n",
    "from datetime import datetime,date\n",
    "import numpy as np\n",
    "import matplotlib.pyplot as plt\n",
    "import numpy as np\n",
    "import pandas as pd\n",
    "import pymongo\n",
    "import csv\n",
    "import json\n",
    "import re\n",
    "import os\n",
    "import psycopg2"
   ]
  },
  {
   "cell_type": "markdown",
   "id": "0a6e9f68",
   "metadata": {},
   "source": [
    "# Connecting to Posgres"
   ]
  },
  {
   "cell_type": "code",
   "execution_count": null,
   "id": "3a604ddb",
   "metadata": {},
   "outputs": [],
   "source": [
    "#Connecting to Postgres\n",
    "hostname = 'covid19.clksoczr9us2.us-east-1.rds.amazonaws.com'\n",
    "port_id = 5432\n",
    "username = 'postgres'\n",
    "database = 'postgres'\n",
    "pwd = 'User1234' \n",
    "\n",
    "conn = psycopg2.connect(\n",
    "        host = hostname,\n",
    "        dbname = database,\n",
    "        user = username,\n",
    "        password = pwd, \n",
    "        port = port_id)\n",
    "print(\"database opened successfully\")\n",
    "\n",
    "\n"
   ]
  },
  {
   "cell_type": "markdown",
   "id": "5e0fe7fb",
   "metadata": {},
   "source": [
    "# Downloading from COVID19_data"
   ]
  },
  {
   "cell_type": "code",
   "execution_count": 11,
   "id": "1da1def7",
   "metadata": {},
   "outputs": [
    {
     "data": {
      "text/html": [
       "<div>\n",
       "<style scoped>\n",
       "    .dataframe tbody tr th:only-of-type {\n",
       "        vertical-align: middle;\n",
       "    }\n",
       "\n",
       "    .dataframe tbody tr th {\n",
       "        vertical-align: top;\n",
       "    }\n",
       "\n",
       "    .dataframe thead th {\n",
       "        text-align: right;\n",
       "    }\n",
       "</style>\n",
       "<table border=\"1\" class=\"dataframe\">\n",
       "  <thead>\n",
       "    <tr style=\"text-align: right;\">\n",
       "      <th></th>\n",
       "      <th>city</th>\n",
       "      <th>province_state</th>\n",
       "      <th>country_region</th>\n",
       "      <th>lat</th>\n",
       "      <th>long</th>\n",
       "      <th>confirmed_cases</th>\n",
       "      <th>cases_per_day</th>\n",
       "      <th>last_update</th>\n",
       "      <th>people_fully_vaccinated</th>\n",
       "      <th>coordinates</th>\n",
       "    </tr>\n",
       "  </thead>\n",
       "  <tbody>\n",
       "    <tr>\n",
       "      <th>0</th>\n",
       "      <td>Wayne</td>\n",
       "      <td>Illinois</td>\n",
       "      <td>US</td>\n",
       "      <td>38.429554</td>\n",
       "      <td>-88.425865</td>\n",
       "      <td>2155.0</td>\n",
       "      <td>NaN</td>\n",
       "      <td>2021-08-23</td>\n",
       "      <td>175676240</td>\n",
       "      <td>[38.42955355, -88.42586459]</td>\n",
       "    </tr>\n",
       "    <tr>\n",
       "      <th>1</th>\n",
       "      <td>White</td>\n",
       "      <td>Illinois</td>\n",
       "      <td>US</td>\n",
       "      <td>38.087062</td>\n",
       "      <td>-88.176575</td>\n",
       "      <td>2056.0</td>\n",
       "      <td>NaN</td>\n",
       "      <td>2021-08-23</td>\n",
       "      <td>175676240</td>\n",
       "      <td>[38.08706198, -88.17657461]</td>\n",
       "    </tr>\n",
       "    <tr>\n",
       "      <th>2</th>\n",
       "      <td>Whiteside</td>\n",
       "      <td>Illinois</td>\n",
       "      <td>US</td>\n",
       "      <td>41.755097</td>\n",
       "      <td>-89.915561</td>\n",
       "      <td>7414.0</td>\n",
       "      <td>NaN</td>\n",
       "      <td>2021-08-23</td>\n",
       "      <td>175676240</td>\n",
       "      <td>[41.75509713, -89.91556058]</td>\n",
       "    </tr>\n",
       "    <tr>\n",
       "      <th>3</th>\n",
       "      <td>Will</td>\n",
       "      <td>Illinois</td>\n",
       "      <td>US</td>\n",
       "      <td>41.446193</td>\n",
       "      <td>-87.978627</td>\n",
       "      <td>81616.0</td>\n",
       "      <td>NaN</td>\n",
       "      <td>2021-08-23</td>\n",
       "      <td>175676240</td>\n",
       "      <td>[41.44619267, -87.97862712]</td>\n",
       "    </tr>\n",
       "    <tr>\n",
       "      <th>4</th>\n",
       "      <td>Williamson</td>\n",
       "      <td>Illinois</td>\n",
       "      <td>US</td>\n",
       "      <td>37.730335</td>\n",
       "      <td>-88.929940</td>\n",
       "      <td>9461.0</td>\n",
       "      <td>NaN</td>\n",
       "      <td>2021-08-23</td>\n",
       "      <td>175676240</td>\n",
       "      <td>[37.73033511, -88.92994027]</td>\n",
       "    </tr>\n",
       "  </tbody>\n",
       "</table>\n",
       "</div>"
      ],
      "text/plain": [
       "         city province_state country_region        lat       long  \\\n",
       "0       Wayne       Illinois             US  38.429554 -88.425865   \n",
       "1       White       Illinois             US  38.087062 -88.176575   \n",
       "2   Whiteside       Illinois             US  41.755097 -89.915561   \n",
       "3        Will       Illinois             US  41.446193 -87.978627   \n",
       "4  Williamson       Illinois             US  37.730335 -88.929940   \n",
       "\n",
       "   confirmed_cases  cases_per_day last_update  people_fully_vaccinated  \\\n",
       "0           2155.0            NaN  2021-08-23                175676240   \n",
       "1           2056.0            NaN  2021-08-23                175676240   \n",
       "2           7414.0            NaN  2021-08-23                175676240   \n",
       "3          81616.0            NaN  2021-08-23                175676240   \n",
       "4           9461.0            NaN  2021-08-23                175676240   \n",
       "\n",
       "                   coordinates  \n",
       "0  [38.42955355, -88.42586459]  \n",
       "1  [38.08706198, -88.17657461]  \n",
       "2  [41.75509713, -89.91556058]  \n",
       "3  [41.44619267, -87.97862712]  \n",
       "4  [37.73033511, -88.92994027]  "
      ]
     },
     "execution_count": 11,
     "metadata": {},
     "output_type": "execute_result"
    }
   ],
   "source": [
    "#Downloading the data from Postgres\n",
    "df = pd.read_sql('SELECT * FROM covid19_data', conn)\n",
    "df.head()"
   ]
  },
  {
   "cell_type": "markdown",
   "id": "e3fdd669",
   "metadata": {},
   "source": [
    "# Create New Table for Machine Learning Data"
   ]
  },
  {
   "cell_type": "code",
   "execution_count": null,
   "id": "40df76d6",
   "metadata": {},
   "outputs": [],
   "source": [
    "#Connecting to Postgres\n",
    "hostname = 'covid19.clksoczr9us2.us-east-1.rds.amazonaws.com'\n",
    "port_id = 5432\n",
    "username = 'postgres'\n",
    "database = 'postgres'\n",
    "pwd = 'User1234' \n",
    "\n",
    "conn = psycopg2.connect(\n",
    "        host = hostname,\n",
    "        dbname = database,\n",
    "        user = username,\n",
    "        password = pwd, \n",
    "        port = port_id)\n",
    "print(\"database opened successfully\")\n"
   ]
  },
  {
   "cell_type": "code",
   "execution_count": null,
   "id": "6a67cdd9",
   "metadata": {},
   "outputs": [],
   "source": [
    "#merged_df.dtypes"
   ]
  },
  {
   "cell_type": "code",
   "execution_count": 5,
   "id": "407776f2",
   "metadata": {},
   "outputs": [],
   "source": [
    "replacements = {\n",
    "    'object':'varchar',\n",
    "    'float64':'decimal',\n",
    "    'datetime64[ns]':'date',\n",
    "    'int64':'int'\n",
    "}"
   ]
  },
  {
   "cell_type": "code",
   "execution_count": 6,
   "id": "e7ccc4ad",
   "metadata": {},
   "outputs": [
    {
     "data": {
      "text/plain": [
       "'city varchar, province_state varchar, country_region varchar, lat decimal, long decimal, confirmed_cases decimal, cases_per_day decimal, last_update varchar, people_fully_vaccinated int, coordinates varchar'"
      ]
     },
     "execution_count": 6,
     "metadata": {},
     "output_type": "execute_result"
    }
   ],
   "source": [
    "col_str = \", \".join(\"{} {}\".format(n, d) for (n, d) in zip(df.columns, df.dtypes.replace(replacements)))\n",
    "col_str"
   ]
  },
  {
   "cell_type": "code",
   "execution_count": 7,
   "id": "fe2a572b",
   "metadata": {},
   "outputs": [
    {
     "name": "stdout",
     "output_type": "stream",
     "text": [
      "database opened successfully\n"
     ]
    }
   ],
   "source": [
    "conn = psycopg2.connect(\n",
    "        host = hostname,\n",
    "        dbname = database,\n",
    "        user = username,\n",
    "        password = pwd, \n",
    "        port = port_id)\n",
    "print(\"database opened successfully\")\n",
    "\n",
    "cursor = conn.cursor()\n",
    "\n",
    "cursor.execute(\"Create Table covid19_data \\\n",
    "(City varchar, Province_State varchar, Country_Region varchar, Lat decimal, Long decimal, Confirmed_Cases decimal, Cases_Per_Day decimal, Last_Update date, people_fully_vaccinated int, Coordinates varchar)\")\n",
    "\n"
   ]
  },
  {
   "cell_type": "markdown",
   "id": "a860ea1b",
   "metadata": {},
   "source": [
    "# Save the new Merged_df to CSV"
   ]
  },
  {
   "cell_type": "code",
   "execution_count": 8,
   "id": "936cf10a",
   "metadata": {},
   "outputs": [
    {
     "name": "stdout",
     "output_type": "stream",
     "text": [
      "file opened in memory\n"
     ]
    }
   ],
   "source": [
    "#Save to CSV file \n",
    "df.to_csv('COVID_19_dataV8_Confirmed_cases.csv', header=df.columns, index=False, encoding='utf-8')\n",
    "\n",
    "my_file = open('COVID_19_dataV8_Confirmed_cases.csv')\n",
    "print('file opened in memory')"
   ]
  },
  {
   "cell_type": "code",
   "execution_count": 9,
   "id": "0bc6bf3d",
   "metadata": {},
   "outputs": [
    {
     "name": "stdout",
     "output_type": "stream",
     "text": [
      "file copied to db\n"
     ]
    }
   ],
   "source": [
    "#upload to Postgres\n",
    "SQL_STATEMENT = \"\"\"\n",
    "COPY covid19_data FROM STDIN WITH\n",
    "    CSV\n",
    "    HEADER\n",
    "    DELIMITER AS ','\n",
    "\"\"\"\n",
    "\n",
    "cursor.copy_expert(sql=SQL_STATEMENT, file=my_file)\n",
    "print('file copied to db')"
   ]
  },
  {
   "cell_type": "code",
   "execution_count": 10,
   "id": "06971ff8",
   "metadata": {},
   "outputs": [
    {
     "name": "stdout",
     "output_type": "stream",
     "text": [
      "covid19_data imported to DB completed\n"
     ]
    }
   ],
   "source": [
    "cursor.execute(\"grant select on table covid19_data to public\")\n",
    "conn.commit()\n",
    "cursor.close()\n",
    "print('covid19 imported to DB completed')"
   ]
  },
  {
   "cell_type": "code",
   "execution_count": 4,
   "id": "af6e1f66",
   "metadata": {},
   "outputs": [],
   "source": [
    "# #Add the last two columns after coordinates\n",
    "\n",
    "# cursor = conn.cursor()\n",
    "\n",
    "# cursor.execute('''\n",
    "#                 Create Table covid19_data(\n",
    "#                     City VARCHAR,\n",
    "#                     Province_State VARCHAR,\n",
    "#                     Country_Region VARCHAR,\n",
    "#                     Lat DECIMAl (10,8),\n",
    "#                     Long DECIMAL (11,8),\n",
    "#                     Confirmed_Cases Decimal (9,1),\n",
    "#                     Cases_Per_day Decimal (9,1),\n",
    "#                     Last_Update DATE,\n",
    "#                     people_fully_vaccinated INT,\n",
    "#                     Coordinates VARCHAR\n",
    "#                     Real Values Decimal (9,1)\n",
    "#                     Predicted Values Decimal (9,1);\n",
    "#                 ''')"
   ]
  },
  {
   "cell_type": "code",
   "execution_count": null,
   "id": "d712bd2c",
   "metadata": {},
   "outputs": [],
   "source": []
  }
 ],
 "metadata": {
  "kernelspec": {
   "display_name": "PythonData",
   "language": "python",
   "name": "pythondata"
  },
  "language_info": {
   "codemirror_mode": {
    "name": "ipython",
    "version": 3
   },
   "file_extension": ".py",
   "mimetype": "text/x-python",
   "name": "python",
   "nbconvert_exporter": "python",
   "pygments_lexer": "ipython3",
   "version": "3.8.5"
  }
 },
 "nbformat": 4,
 "nbformat_minor": 5
}
